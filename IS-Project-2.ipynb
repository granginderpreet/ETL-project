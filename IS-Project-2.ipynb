{
 "cells": [
  {
   "cell_type": "code",
   "execution_count": 78,
   "id": "63df0f6a",
   "metadata": {},
   "outputs": [],
   "source": [
    "import pandas as pd\n",
    "from sqlalchemy import create_engine\n",
    "import matplotlib.pyplot as plt\n",
    "from scipy import stats\n",
    "import scipy.stats as st\n",
    "import numpy as np"
   ]
  },
  {
   "cell_type": "code",
   "execution_count": 79,
   "id": "e1a9df8d",
   "metadata": {},
   "outputs": [],
   "source": [
    "original_population_file = \"Resources/population_growth_rate.csv\"\n",
    "original_population_data_df = pd.read_csv(original_population_file)"
   ]
  },
  {
   "cell_type": "code",
   "execution_count": 80,
   "id": "49f2b079",
   "metadata": {},
   "outputs": [],
   "source": [
    "original_gdp_file = \"Resources/gdp_per_capita.csv\"\n",
    "original_gdp_data_df = pd.read_csv(original_gdp_file)"
   ]
  },
  {
   "cell_type": "code",
   "execution_count": 81,
   "id": "941704e0",
   "metadata": {},
   "outputs": [],
   "source": [
    "original_happiness_2015_file = \"Resources/world_happiness_report_2015.csv\"\n",
    "original_happiness_2016_file = \"Resources/world_happiness_report_2016.csv\"\n",
    "original_happiness_2017_file = \"Resources/world_happiness_report_2017.csv\"\n",
    "original_happiness_2018_file = \"Resources/world_happiness_report_2018.csv\"\n",
    "original_happiness_2019_file = \"Resources/world_happiness_report_2019.csv\"\n",
    "\n",
    "original_happiness_2015_data_df = pd.read_csv(original_happiness_2015_file)\n",
    "original_happiness_2016_data_df = pd.read_csv(original_happiness_2016_file)\n",
    "original_happiness_2017_data_df = pd.read_csv(original_happiness_2017_file)\n",
    "original_happiness_2018_data_df = pd.read_csv(original_happiness_2018_file)\n",
    "original_happiness_2019_data_df = pd.read_csv(original_happiness_2019_file)"
   ]
  },
  {
   "cell_type": "code",
   "execution_count": 82,
   "id": "f6bd6d7b",
   "metadata": {},
   "outputs": [
    {
     "data": {
      "text/html": [
       "<div>\n",
       "<style scoped>\n",
       "    .dataframe tbody tr th:only-of-type {\n",
       "        vertical-align: middle;\n",
       "    }\n",
       "\n",
       "    .dataframe tbody tr th {\n",
       "        vertical-align: top;\n",
       "    }\n",
       "\n",
       "    .dataframe thead th {\n",
       "        text-align: right;\n",
       "    }\n",
       "</style>\n",
       "<table border=\"1\" class=\"dataframe\">\n",
       "  <thead>\n",
       "    <tr style=\"text-align: right;\">\n",
       "      <th></th>\n",
       "      <th>PGR</th>\n",
       "      <th>year</th>\n",
       "    </tr>\n",
       "    <tr>\n",
       "      <th>country</th>\n",
       "      <th></th>\n",
       "      <th></th>\n",
       "    </tr>\n",
       "  </thead>\n",
       "  <tbody>\n",
       "    <tr>\n",
       "      <th>Aruba</th>\n",
       "      <td>3.134888</td>\n",
       "      <td>1960</td>\n",
       "    </tr>\n",
       "    <tr>\n",
       "      <th>Afghanistan</th>\n",
       "      <td>1.813677</td>\n",
       "      <td>1960</td>\n",
       "    </tr>\n",
       "    <tr>\n",
       "      <th>Angola</th>\n",
       "      <td>1.803005</td>\n",
       "      <td>1960</td>\n",
       "    </tr>\n",
       "    <tr>\n",
       "      <th>Anguilla</th>\n",
       "      <td>NaN</td>\n",
       "      <td>1960</td>\n",
       "    </tr>\n",
       "    <tr>\n",
       "      <th>Albania</th>\n",
       "      <td>3.015423</td>\n",
       "      <td>1960</td>\n",
       "    </tr>\n",
       "  </tbody>\n",
       "</table>\n",
       "</div>"
      ],
      "text/plain": [
       "                  PGR  year\n",
       "country                    \n",
       "Aruba        3.134888  1960\n",
       "Afghanistan  1.813677  1960\n",
       "Angola       1.803005  1960\n",
       "Anguilla          NaN  1960\n",
       "Albania      3.015423  1960"
      ]
     },
     "execution_count": 82,
     "metadata": {},
     "output_type": "execute_result"
    }
   ],
   "source": [
    "population_data_df = original_population_data_df[['name_long', 'POP_GROWTH_RT','YEAR']].copy()\n",
    "population_data_df = population_data_df.rename(columns={\"name_long\": \"country\",\n",
    "                                                          \"POP_GROWTH_RT\": \"PGR\",\n",
    "                                                          \"YEAR\": \"year\"})\n",
    "population_data_df.drop_duplicates(\"country\", inplace=True)\n",
    "population_data_df.set_index(\"country\", inplace=True)\n",
    "\n",
    "population_data_df.head()"
   ]
  },
  {
   "cell_type": "code",
   "execution_count": 83,
   "id": "bbf91d89",
   "metadata": {},
   "outputs": [],
   "source": [
    "gdp_data_df = original_gdp_data_df[['Country', '2014','2015','2016','2017','2018']].copy()\n",
    "gdp_data_df = gdp_data_df.rename(columns={\"Country\": \"country\"})\n",
    "gdp_data_df.drop_duplicates(\"country\", inplace=True)\n",
    "gdp_data_df.set_index(\"country\", inplace=True)\n",
    "# gdp_data_df[gdp_data_df['2014'].apply(lambda x: str(x).isdigit())]\n",
    "# gdp_data_df[gdp_data_df['2015'].apply(lambda x: str(x).isdigit())]\n",
    "# gdp_data_df[gdp_data_df['2016'].apply(lambda x: str(x).isdigit())]\n",
    "# gdp_data_df[gdp_data_df['2017'].apply(lambda x: str(x).isdigit())]\n",
    "# gdp_data_df[gdp_data_df['2018'].apply(lambda x: str(x).isdigit())]\n",
    "gdp_data_df.drop(gdp_data_df.loc[gdp_data_df['2014']=='..'].index, inplace=True)\n",
    "gdp_data_df.drop(gdp_data_df.loc[gdp_data_df['2015']=='..'].index, inplace=True)\n",
    "gdp_data_df.drop(gdp_data_df.loc[gdp_data_df['2016']=='..'].index, inplace=True)\n",
    "gdp_data_df.drop(gdp_data_df.loc[gdp_data_df['2017']=='..'].index, inplace=True)\n",
    "gdp_data_df.drop(gdp_data_df.loc[gdp_data_df['2018']=='..'].index, inplace=True)\n",
    "#gdp_data_df = pd.to_numeric(gdp_data_df[\"2018\"], downcast=\"float\")\n",
    "\n",
    "gdp_data_df[\"2014\"] = pd.to_numeric(gdp_data_df[\"2014\"], downcast=\"float\")\n",
    "gdp_data_df[\"2015\"] = pd.to_numeric(gdp_data_df[\"2015\"], downcast=\"float\")\n",
    "gdp_data_df[\"2016\"] = pd.to_numeric(gdp_data_df[\"2016\"], downcast=\"float\")\n",
    "gdp_data_df[\"2017\"] = pd.to_numeric(gdp_data_df[\"2017\"], downcast=\"float\")\n",
    "gdp_data_df[\"2018\"] = pd.to_numeric(gdp_data_df[\"2018\"], downcast=\"float\")\n",
    "\n",
    "\n",
    "#gdp_data_df.to_csv('out.csv')\n",
    "# gdp_data_clean =pd.DataFrame()\n",
    "#print(len(gdp_data_df))\n",
    "# for i,row in gdp_data_df.iterrows():\n",
    "#     try: \n",
    "#         gdp_data_clean[i] = pd.to_numeric(row, downcast=\"float\")\n",
    "#     except: \n",
    "#         print(i)\n",
    "#         gdp_data_df.drop(inplace=True)\n",
    "#         passgdp_data_df[\"2014\"] = pd.to_numeric(gdp_data_df[\"2014\"], downcast=\"float\")"
   ]
  },
  {
   "cell_type": "code",
   "execution_count": 84,
   "id": "ff1b8cb6",
   "metadata": {},
   "outputs": [],
   "source": [
    "gdp_mean_data=gdp_data_df[[\"2014\",\"2015\",\"2016\",\"2017\", \"2018\"]].mean(axis=1)\n"
   ]
  },
  {
   "cell_type": "code",
   "execution_count": 85,
   "id": "538ee01e",
   "metadata": {},
   "outputs": [
    {
     "data": {
      "text/html": [
       "<div>\n",
       "<style scoped>\n",
       "    .dataframe tbody tr th:only-of-type {\n",
       "        vertical-align: middle;\n",
       "    }\n",
       "\n",
       "    .dataframe tbody tr th {\n",
       "        vertical-align: top;\n",
       "    }\n",
       "\n",
       "    .dataframe thead th {\n",
       "        text-align: right;\n",
       "    }\n",
       "</style>\n",
       "<table border=\"1\" class=\"dataframe\">\n",
       "  <thead>\n",
       "    <tr style=\"text-align: right;\">\n",
       "      <th></th>\n",
       "      <th>GDP_per_capita</th>\n",
       "    </tr>\n",
       "    <tr>\n",
       "      <th>country</th>\n",
       "      <th></th>\n",
       "    </tr>\n",
       "  </thead>\n",
       "  <tbody>\n",
       "    <tr>\n",
       "      <th>Afghanistan</th>\n",
       "      <td>1762.599976</td>\n",
       "    </tr>\n",
       "    <tr>\n",
       "      <th>Albania</th>\n",
       "      <td>11427.599609</td>\n",
       "    </tr>\n",
       "    <tr>\n",
       "      <th>Algeria</th>\n",
       "      <td>13805.000000</td>\n",
       "    </tr>\n",
       "    <tr>\n",
       "      <th>Angola</th>\n",
       "      <td>6297.200195</td>\n",
       "    </tr>\n",
       "    <tr>\n",
       "      <th>Antigua and Barbuda</th>\n",
       "      <td>22253.000000</td>\n",
       "    </tr>\n",
       "  </tbody>\n",
       "</table>\n",
       "</div>"
      ],
      "text/plain": [
       "                     GDP_per_capita\n",
       "country                            \n",
       "Afghanistan             1762.599976\n",
       "Albania                11427.599609\n",
       "Algeria                13805.000000\n",
       "Angola                  6297.200195\n",
       "Antigua and Barbuda    22253.000000"
      ]
     },
     "execution_count": 85,
     "metadata": {},
     "output_type": "execute_result"
    }
   ],
   "source": [
    "gdp_mean_data_df=gdp_mean_data.to_frame(name=\"GDP_per_capita\")\n",
    "len(gdp_mean_data_df)\n",
    "gdp_mean_data_df.head()"
   ]
  },
  {
   "cell_type": "code",
   "execution_count": 86,
   "id": "e62cd6f3",
   "metadata": {},
   "outputs": [],
   "source": [
    "happiness_2015_data_df = original_happiness_2015_data_df[['Country', 'Happiness Score']].copy()\n",
    "happiness_2016_data_df = original_happiness_2016_data_df[['Country', 'Happiness Score']].copy()\n",
    "happiness_2017_data_df = original_happiness_2017_data_df[['Country', 'Happiness.Score']].copy()\n",
    "happiness_2018_data_df = original_happiness_2018_data_df[['Country or region', 'Score']].copy()\n",
    "happiness_2019_data_df = original_happiness_2019_data_df[['Country or region', 'Score']].copy()\n",
    "\n",
    "happiness_2015_data_df = happiness_2015_data_df.rename(columns={\"Country\": \"country\",\n",
    "                                                               \"Happiness Score\": \"happiness_score\"})\n",
    "happiness_2016_data_df = happiness_2016_data_df.rename(columns={\"Country\": \"country\",\n",
    "                                                               \"Happiness Score\": \"happiness_score\"})\n",
    "happiness_2017_data_df = happiness_2017_data_df.rename(columns={\"Country\": \"country\",\n",
    "                                                               \"Happiness Score\": \"happiness_score\"})\n",
    "happiness_2018_data_df = happiness_2018_data_df.rename(columns={\"Country or region\": \"country\",\n",
    "                                                               \"Score\": \"happiness_score\"})\n",
    "happiness_2019_data_df = happiness_2019_data_df.rename(columns={\"Country or region\": \"country\",\n",
    "                                                               \"Score\": \"happiness_score\"})\n",
    "\n",
    "happiness_2015_data_df.drop_duplicates(\"country\", inplace=True)\n",
    "happiness_2016_data_df.drop_duplicates(\"country\", inplace=True)\n",
    "happiness_2017_data_df.drop_duplicates(\"country\", inplace=True)\n",
    "happiness_2018_data_df.drop_duplicates(\"country\", inplace=True)\n",
    "happiness_2019_data_df.drop_duplicates(\"country\", inplace=True)\n",
    "happiness_2015_data_df.set_index(\"country\", inplace=True)\n",
    "happiness_2016_data_df.set_index(\"country\", inplace=True)\n",
    "happiness_2017_data_df.set_index(\"country\", inplace=True)\n",
    "happiness_2018_data_df.set_index(\"country\", inplace=True)\n",
    "happiness_2019_data_df.set_index(\"country\", inplace=True)"
   ]
  },
  {
   "cell_type": "code",
   "execution_count": 87,
   "id": "6a493cf3",
   "metadata": {},
   "outputs": [],
   "source": [
    "happiness_merged_data_df=pd.merge(happiness_2015_data_df, happiness_2016_data_df, left_index=True, right_index=True)"
   ]
  },
  {
   "cell_type": "code",
   "execution_count": 88,
   "id": "6eb7612d",
   "metadata": {},
   "outputs": [],
   "source": [
    "happiness_merged_data_df=pd.merge(happiness_merged_data_df, happiness_2017_data_df, left_index=True, right_index=True)"
   ]
  },
  {
   "cell_type": "code",
   "execution_count": 89,
   "id": "a8ac1944",
   "metadata": {},
   "outputs": [],
   "source": [
    "happiness_merged_data_df=pd.merge(happiness_merged_data_df, happiness_2018_data_df, left_index=True, right_index=True)"
   ]
  },
  {
   "cell_type": "code",
   "execution_count": 90,
   "id": "5ea21329",
   "metadata": {},
   "outputs": [
    {
     "name": "stderr",
     "output_type": "stream",
     "text": [
      "C:\\Users\\igrang\\AppData\\Local\\Temp\\ipykernel_21492\\285855686.py:1: FutureWarning: Passing 'suffixes' which cause duplicate columns {'happiness_score_x'} in the result is deprecated and will raise a MergeError in a future version.\n",
      "  happiness_merged_data_df=pd.merge(happiness_merged_data_df, happiness_2019_data_df, left_index=True, right_index=True)\n"
     ]
    }
   ],
   "source": [
    "happiness_merged_data_df=pd.merge(happiness_merged_data_df, happiness_2019_data_df, left_index=True, right_index=True)"
   ]
  },
  {
   "cell_type": "code",
   "execution_count": 91,
   "id": "532241e6",
   "metadata": {},
   "outputs": [],
   "source": [
    "happiness_mean_data=happiness_merged_data_df[[\"happiness_score_x\",\"happiness_score_y\",\"Happiness.Score\",\"happiness_score_x\", \"happiness_score_y\"]].mean(axis=1)"
   ]
  },
  {
   "cell_type": "code",
   "execution_count": 92,
   "id": "93326387",
   "metadata": {},
   "outputs": [
    {
     "data": {
      "text/plain": [
       "141"
      ]
     },
     "execution_count": 92,
     "metadata": {},
     "output_type": "execute_result"
    }
   ],
   "source": [
    "happiness_mean_data_df=happiness_mean_data.to_frame(name=\"happiness_score\")\n",
    "len(happiness_mean_data_df)"
   ]
  },
  {
   "cell_type": "markdown",
   "id": "6f988374",
   "metadata": {},
   "source": [
    "#Happiness score mean per country"
   ]
  },
  {
   "cell_type": "code",
   "execution_count": 93,
   "id": "331e24b6",
   "metadata": {},
   "outputs": [
    {
     "data": {
      "text/html": [
       "<div>\n",
       "<style scoped>\n",
       "    .dataframe tbody tr th:only-of-type {\n",
       "        vertical-align: middle;\n",
       "    }\n",
       "\n",
       "    .dataframe tbody tr th {\n",
       "        vertical-align: top;\n",
       "    }\n",
       "\n",
       "    .dataframe thead th {\n",
       "        text-align: right;\n",
       "    }\n",
       "</style>\n",
       "<table border=\"1\" class=\"dataframe\">\n",
       "  <thead>\n",
       "    <tr style=\"text-align: right;\">\n",
       "      <th></th>\n",
       "      <th>happiness_score</th>\n",
       "    </tr>\n",
       "    <tr>\n",
       "      <th>country</th>\n",
       "      <th></th>\n",
       "    </tr>\n",
       "  </thead>\n",
       "  <tbody>\n",
       "    <tr>\n",
       "      <th>Switzerland</th>\n",
       "      <td>7.513333</td>\n",
       "    </tr>\n",
       "    <tr>\n",
       "      <th>Iceland</th>\n",
       "      <td>7.511778</td>\n",
       "    </tr>\n",
       "    <tr>\n",
       "      <th>Denmark</th>\n",
       "      <td>7.548667</td>\n",
       "    </tr>\n",
       "    <tr>\n",
       "      <th>Norway</th>\n",
       "      <td>7.541444</td>\n",
       "    </tr>\n",
       "    <tr>\n",
       "      <th>Canada</th>\n",
       "      <td>7.354444</td>\n",
       "    </tr>\n",
       "  </tbody>\n",
       "</table>\n",
       "</div>"
      ],
      "text/plain": [
       "             happiness_score\n",
       "country                     \n",
       "Switzerland         7.513333\n",
       "Iceland             7.511778\n",
       "Denmark             7.548667\n",
       "Norway              7.541444\n",
       "Canada              7.354444"
      ]
     },
     "execution_count": 93,
     "metadata": {},
     "output_type": "execute_result"
    }
   ],
   "source": [
    "\n",
    "happiness_mean_data_df.head()"
   ]
  },
  {
   "cell_type": "code",
   "execution_count": 94,
   "id": "2bdc71fc",
   "metadata": {},
   "outputs": [],
   "source": [
    "GDP_happiness_df=pd.merge(happiness_mean_data_df, gdp_mean_data_df, left_index=True, right_index=True)"
   ]
  },
  {
   "cell_type": "code",
   "execution_count": 95,
   "id": "c5c4c46e",
   "metadata": {},
   "outputs": [
    {
     "data": {
      "text/plain": [
       "126"
      ]
     },
     "execution_count": 95,
     "metadata": {},
     "output_type": "execute_result"
    }
   ],
   "source": [
    "len(GDP_happiness_df)"
   ]
  },
  {
   "cell_type": "code",
   "execution_count": 96,
   "id": "a8cc47e1",
   "metadata": {},
   "outputs": [],
   "source": [
    "GDP_happiness_population_df=pd.merge(GDP_happiness_df, population_data_df, left_index=True, right_index=True)"
   ]
  },
  {
   "cell_type": "code",
   "execution_count": 97,
   "id": "47c482fe",
   "metadata": {},
   "outputs": [
    {
     "data": {
      "text/plain": [
       "126"
      ]
     },
     "execution_count": 97,
     "metadata": {},
     "output_type": "execute_result"
    }
   ],
   "source": [
    "len(GDP_happiness_population_df)"
   ]
  },
  {
   "cell_type": "code",
   "execution_count": 98,
   "id": "739cf38a",
   "metadata": {},
   "outputs": [
    {
     "data": {
      "text/html": [
       "<div>\n",
       "<style scoped>\n",
       "    .dataframe tbody tr th:only-of-type {\n",
       "        vertical-align: middle;\n",
       "    }\n",
       "\n",
       "    .dataframe tbody tr th {\n",
       "        vertical-align: top;\n",
       "    }\n",
       "\n",
       "    .dataframe thead th {\n",
       "        text-align: right;\n",
       "    }\n",
       "</style>\n",
       "<table border=\"1\" class=\"dataframe\">\n",
       "  <thead>\n",
       "    <tr style=\"text-align: right;\">\n",
       "      <th></th>\n",
       "      <th>happiness_score</th>\n",
       "      <th>GDP_per_capita</th>\n",
       "      <th>PGR</th>\n",
       "      <th>year</th>\n",
       "    </tr>\n",
       "    <tr>\n",
       "      <th>country</th>\n",
       "      <th></th>\n",
       "      <th></th>\n",
       "      <th></th>\n",
       "      <th></th>\n",
       "    </tr>\n",
       "  </thead>\n",
       "  <tbody>\n",
       "    <tr>\n",
       "      <th>Switzerland</th>\n",
       "      <td>7.513333</td>\n",
       "      <td>57834.000000</td>\n",
       "      <td>2.172274</td>\n",
       "      <td>1960</td>\n",
       "    </tr>\n",
       "    <tr>\n",
       "      <th>Iceland</th>\n",
       "      <td>7.511778</td>\n",
       "      <td>46052.601562</td>\n",
       "      <td>1.795327</td>\n",
       "      <td>1960</td>\n",
       "    </tr>\n",
       "    <tr>\n",
       "      <th>Denmark</th>\n",
       "      <td>7.548667</td>\n",
       "      <td>46462.000000</td>\n",
       "      <td>0.665279</td>\n",
       "      <td>1960</td>\n",
       "    </tr>\n",
       "    <tr>\n",
       "      <th>Norway</th>\n",
       "      <td>7.541444</td>\n",
       "      <td>64414.601562</td>\n",
       "      <td>0.839369</td>\n",
       "      <td>1960</td>\n",
       "    </tr>\n",
       "    <tr>\n",
       "      <th>Canada</th>\n",
       "      <td>7.354444</td>\n",
       "      <td>43447.199219</td>\n",
       "      <td>2.298627</td>\n",
       "      <td>1960</td>\n",
       "    </tr>\n",
       "  </tbody>\n",
       "</table>\n",
       "</div>"
      ],
      "text/plain": [
       "             happiness_score  GDP_per_capita       PGR  year\n",
       "country                                                     \n",
       "Switzerland         7.513333    57834.000000  2.172274  1960\n",
       "Iceland             7.511778    46052.601562  1.795327  1960\n",
       "Denmark             7.548667    46462.000000  0.665279  1960\n",
       "Norway              7.541444    64414.601562  0.839369  1960\n",
       "Canada              7.354444    43447.199219  2.298627  1960"
      ]
     },
     "execution_count": 98,
     "metadata": {},
     "output_type": "execute_result"
    }
   ],
   "source": [
    "#GDP_happiness_population_df.drop(['year'], axis='columns', inplace=True)\n",
    "GDP_happiness_population_df.head()"
   ]
  },
  {
   "cell_type": "code",
   "execution_count": 99,
   "id": "eb9d9698",
   "metadata": {},
   "outputs": [],
   "source": [
    "GDP_happiness_population_df.drop(columns=[\"year\"] , inplace=True)"
   ]
  },
  {
   "cell_type": "code",
   "execution_count": 100,
   "id": "30af5feb",
   "metadata": {},
   "outputs": [
    {
     "data": {
      "text/plain": [
       "126"
      ]
     },
     "execution_count": 100,
     "metadata": {},
     "output_type": "execute_result"
    }
   ],
   "source": [
    "len(GDP_happiness_population_df)\n"
   ]
  },
  {
   "cell_type": "code",
   "execution_count": 101,
   "id": "ab439c31",
   "metadata": {},
   "outputs": [
    {
     "data": {
      "text/html": [
       "<div>\n",
       "<style scoped>\n",
       "    .dataframe tbody tr th:only-of-type {\n",
       "        vertical-align: middle;\n",
       "    }\n",
       "\n",
       "    .dataframe tbody tr th {\n",
       "        vertical-align: top;\n",
       "    }\n",
       "\n",
       "    .dataframe thead th {\n",
       "        text-align: right;\n",
       "    }\n",
       "</style>\n",
       "<table border=\"1\" class=\"dataframe\">\n",
       "  <thead>\n",
       "    <tr style=\"text-align: right;\">\n",
       "      <th></th>\n",
       "      <th>happiness_score</th>\n",
       "      <th>GDP_per_capita</th>\n",
       "      <th>PGR</th>\n",
       "    </tr>\n",
       "    <tr>\n",
       "      <th>country</th>\n",
       "      <th></th>\n",
       "      <th></th>\n",
       "      <th></th>\n",
       "    </tr>\n",
       "  </thead>\n",
       "  <tbody>\n",
       "    <tr>\n",
       "      <th>Switzerland</th>\n",
       "      <td>7.513333</td>\n",
       "      <td>57834.000000</td>\n",
       "      <td>2.172274</td>\n",
       "    </tr>\n",
       "    <tr>\n",
       "      <th>Iceland</th>\n",
       "      <td>7.511778</td>\n",
       "      <td>46052.601562</td>\n",
       "      <td>1.795327</td>\n",
       "    </tr>\n",
       "    <tr>\n",
       "      <th>Denmark</th>\n",
       "      <td>7.548667</td>\n",
       "      <td>46462.000000</td>\n",
       "      <td>0.665279</td>\n",
       "    </tr>\n",
       "    <tr>\n",
       "      <th>Norway</th>\n",
       "      <td>7.541444</td>\n",
       "      <td>64414.601562</td>\n",
       "      <td>0.839369</td>\n",
       "    </tr>\n",
       "    <tr>\n",
       "      <th>Canada</th>\n",
       "      <td>7.354444</td>\n",
       "      <td>43447.199219</td>\n",
       "      <td>2.298627</td>\n",
       "    </tr>\n",
       "  </tbody>\n",
       "</table>\n",
       "</div>"
      ],
      "text/plain": [
       "             happiness_score  GDP_per_capita       PGR\n",
       "country                                               \n",
       "Switzerland         7.513333    57834.000000  2.172274\n",
       "Iceland             7.511778    46052.601562  1.795327\n",
       "Denmark             7.548667    46462.000000  0.665279\n",
       "Norway              7.541444    64414.601562  0.839369\n",
       "Canada              7.354444    43447.199219  2.298627"
      ]
     },
     "execution_count": 101,
     "metadata": {},
     "output_type": "execute_result"
    }
   ],
   "source": [
    "GDP_happiness_population_df.head()"
   ]
  },
  {
   "cell_type": "code",
   "execution_count": 102,
   "id": "7fad88c2",
   "metadata": {},
   "outputs": [
    {
     "data": {
      "text/html": [
       "<div>\n",
       "<style scoped>\n",
       "    .dataframe tbody tr th:only-of-type {\n",
       "        vertical-align: middle;\n",
       "    }\n",
       "\n",
       "    .dataframe tbody tr th {\n",
       "        vertical-align: top;\n",
       "    }\n",
       "\n",
       "    .dataframe thead th {\n",
       "        text-align: right;\n",
       "    }\n",
       "</style>\n",
       "<table border=\"1\" class=\"dataframe\">\n",
       "  <thead>\n",
       "    <tr style=\"text-align: right;\">\n",
       "      <th></th>\n",
       "      <th>happiness_score</th>\n",
       "      <th>GDP_per_capita</th>\n",
       "      <th>PGR</th>\n",
       "    </tr>\n",
       "    <tr>\n",
       "      <th>country</th>\n",
       "      <th></th>\n",
       "      <th></th>\n",
       "      <th></th>\n",
       "    </tr>\n",
       "  </thead>\n",
       "  <tbody>\n",
       "    <tr>\n",
       "      <th>Switzerland</th>\n",
       "      <td>7.51</td>\n",
       "      <td>57834.0</td>\n",
       "      <td>2.17</td>\n",
       "    </tr>\n",
       "    <tr>\n",
       "      <th>Iceland</th>\n",
       "      <td>7.51</td>\n",
       "      <td>46052.6</td>\n",
       "      <td>1.80</td>\n",
       "    </tr>\n",
       "    <tr>\n",
       "      <th>Denmark</th>\n",
       "      <td>7.55</td>\n",
       "      <td>46462.0</td>\n",
       "      <td>0.67</td>\n",
       "    </tr>\n",
       "    <tr>\n",
       "      <th>Norway</th>\n",
       "      <td>7.54</td>\n",
       "      <td>64414.6</td>\n",
       "      <td>0.84</td>\n",
       "    </tr>\n",
       "    <tr>\n",
       "      <th>Canada</th>\n",
       "      <td>7.35</td>\n",
       "      <td>43447.2</td>\n",
       "      <td>2.30</td>\n",
       "    </tr>\n",
       "  </tbody>\n",
       "</table>\n",
       "</div>"
      ],
      "text/plain": [
       "             happiness_score  GDP_per_capita   PGR\n",
       "country                                           \n",
       "Switzerland             7.51         57834.0  2.17\n",
       "Iceland                 7.51         46052.6  1.80\n",
       "Denmark                 7.55         46462.0  0.67\n",
       "Norway                  7.54         64414.6  0.84\n",
       "Canada                  7.35         43447.2  2.30"
      ]
     },
     "execution_count": 102,
     "metadata": {},
     "output_type": "execute_result"
    }
   ],
   "source": [
    "GDP_happiness_population_df['happiness_score'] = GDP_happiness_population_df['happiness_score'].round(2)\n",
    "GDP_happiness_population_df['GDP_per_capita'] = GDP_happiness_population_df['GDP_per_capita'].astype('float64').round(2)\n",
    "GDP_happiness_population_df['PGR'] = GDP_happiness_population_df['PGR'].round(2)\n",
    "\n",
    "GDP_happiness_population_df.head()"
   ]
  },
  {
   "cell_type": "code",
   "execution_count": 103,
   "id": "d659bd40",
   "metadata": {},
   "outputs": [
    {
     "data": {
      "text/html": [
       "<div>\n",
       "<style scoped>\n",
       "    .dataframe tbody tr th:only-of-type {\n",
       "        vertical-align: middle;\n",
       "    }\n",
       "\n",
       "    .dataframe tbody tr th {\n",
       "        vertical-align: top;\n",
       "    }\n",
       "\n",
       "    .dataframe thead th {\n",
       "        text-align: right;\n",
       "    }\n",
       "</style>\n",
       "<table border=\"1\" class=\"dataframe\">\n",
       "  <thead>\n",
       "    <tr style=\"text-align: right;\">\n",
       "      <th></th>\n",
       "      <th>happiness_score</th>\n",
       "      <th>GDP_per_capita</th>\n",
       "      <th>PGR</th>\n",
       "    </tr>\n",
       "    <tr>\n",
       "      <th>country</th>\n",
       "      <th></th>\n",
       "      <th></th>\n",
       "      <th></th>\n",
       "    </tr>\n",
       "  </thead>\n",
       "  <tbody>\n",
       "    <tr>\n",
       "      <th>Switzerland</th>\n",
       "      <td>7.51</td>\n",
       "      <td>57834.0</td>\n",
       "      <td>2.17</td>\n",
       "    </tr>\n",
       "    <tr>\n",
       "      <th>Iceland</th>\n",
       "      <td>7.51</td>\n",
       "      <td>46052.6</td>\n",
       "      <td>1.80</td>\n",
       "    </tr>\n",
       "    <tr>\n",
       "      <th>Denmark</th>\n",
       "      <td>7.55</td>\n",
       "      <td>46462.0</td>\n",
       "      <td>0.67</td>\n",
       "    </tr>\n",
       "    <tr>\n",
       "      <th>Norway</th>\n",
       "      <td>7.54</td>\n",
       "      <td>64414.6</td>\n",
       "      <td>0.84</td>\n",
       "    </tr>\n",
       "    <tr>\n",
       "      <th>Canada</th>\n",
       "      <td>7.35</td>\n",
       "      <td>43447.2</td>\n",
       "      <td>2.30</td>\n",
       "    </tr>\n",
       "  </tbody>\n",
       "</table>\n",
       "</div>"
      ],
      "text/plain": [
       "             happiness_score  GDP_per_capita   PGR\n",
       "country                                           \n",
       "Switzerland             7.51         57834.0  2.17\n",
       "Iceland                 7.51         46052.6  1.80\n",
       "Denmark                 7.55         46462.0  0.67\n",
       "Norway                  7.54         64414.6  0.84\n",
       "Canada                  7.35         43447.2  2.30"
      ]
     },
     "execution_count": 103,
     "metadata": {},
     "output_type": "execute_result"
    }
   ],
   "source": [
    "GDP_happiness_population_df_happiness_score_fixed = np.nan_to_num(GDP_happiness_population_df['happiness_score'])\n",
    "GDP_happiness_population_df_gdp_fixed = np.nan_to_num(GDP_happiness_population_df['GDP_per_capita'].astype('float64'))\n",
    "GDP_happiness_population_df_pgr_fixed = np.nan_to_num(GDP_happiness_population_df['PGR'])\n",
    "\n",
    "GDP_happiness_population_df['happiness_score'] = GDP_happiness_population_df_happiness_score_fixed\n",
    "GDP_happiness_population_df['GDP_per_capita'] = GDP_happiness_population_df_gdp_fixed\n",
    "GDP_happiness_population_df['PGR'] = GDP_happiness_population_df_pgr_fixed\n",
    "\n",
    "GDP_happiness_population_df.head()"
   ]
  },
  {
   "cell_type": "code",
   "execution_count": 104,
   "id": "ca10e980",
   "metadata": {},
   "outputs": [
    {
     "name": "stdout",
     "output_type": "stream",
     "text": [
      "The correlation between both factors is 0.0\n"
     ]
    },
    {
     "data": {
      "image/png": "[encoded data removed]",
      "text/plain": [
       "<Figure size 432x288 with 1 Axes>"
      ]
     },
     "metadata": {
      "needs_background": "light"
     },
     "output_type": "display_data"
    }
   ],
   "source": [
    "plt.scatter(GDP_happiness_population_df['happiness_score'],GDP_happiness_population_df['PGR'])\n",
    "plt.title(\"Relevance between Happiness and PGR\")\n",
    "plt.xlabel(\"Happiness Score\")\n",
    "plt.ylabel(\"Population Growth Rate\")\n",
    "\n",
    "correlation = st.pearsonr(GDP_happiness_population_df['happiness_score'],GDP_happiness_population_df['PGR'])\n",
    "print(f\"The correlation between both factors is {round(correlation[0],2)}\")"
   ]
  },
  {
   "cell_type": "code",
   "execution_count": 105,
   "id": "ea528484",
   "metadata": {},
   "outputs": [
    {
     "name": "stdout",
     "output_type": "stream",
     "text": [
      "The correlation between both factors is 0.72\n"
     ]
    },
    {
     "data": {
      "image/png": "[encoded data removed]",
      "text/plain": [
       "<Figure size 432x288 with 1 Axes>"
      ]
     },
     "metadata": {
      "needs_background": "light"
     },
     "output_type": "display_data"
    }
   ],
   "source": [
    "plt.scatter(GDP_happiness_population_df['happiness_score'],GDP_happiness_population_df['GDP_per_capita'])\n",
    "m_slope, m_int, m_r, m_p, m_std_err = stats.linregress(GDP_happiness_population_df['happiness_score'], GDP_happiness_population_df['GDP_per_capita'])\n",
    "m_fit = m_slope * GDP_happiness_population_df['happiness_score'] + m_int\n",
    "plt.plot(GDP_happiness_population_df['happiness_score'],m_fit,\"--\")\n",
    "plt.title(\"Relevance between Happiness and GDP per capita\")\n",
    "plt.xlabel(\"Happiness Score\")\n",
    "plt.ylabel(\"GDP per capita\")\n",
    "\n",
    "correlation = st.pearsonr(GDP_happiness_population_df['happiness_score'],GDP_happiness_population_df['GDP_per_capita'])\n",
    "print(f\"The correlation between both factors is {round(correlation[0],2)}\")"
   ]
  },
  {
   "cell_type": "code",
   "execution_count": 106,
   "id": "a12fbc7e",
   "metadata": {},
   "outputs": [
    {
     "name": "stdout",
     "output_type": "stream",
     "text": [
      "The correlation between both factors is 0.14\n"
     ]
    },
    {
     "data": {
      "image/png": "[encoded data removed]",
      "text/plain": [
       "<Figure size 432x288 with 1 Axes>"
      ]
     },
     "metadata": {
      "needs_background": "light"
     },
     "output_type": "display_data"
    }
   ],
   "source": [
    "plt.scatter(GDP_happiness_population_df['PGR'],GDP_happiness_population_df['GDP_per_capita'])\n",
    "\n",
    "plt.title(\"Relevance between PGR and GDP per capita\")\n",
    "plt.xlabel(\"Population Growth Rate\")\n",
    "plt.ylabel(\"GDP per capita\")\n",
    "\n",
    "correlation = st.pearsonr(GDP_happiness_population_df['PGR'],GDP_happiness_population_df['GDP_per_capita'])\n",
    "print(f\"The correlation between both factors is {round(correlation[0],2)}\")"
   ]
  },
  {
   "cell_type": "code",
   "execution_count": 107,
   "id": "140219d3",
   "metadata": {},
   "outputs": [],
   "source": [
    "GDP_happiness_population_df.to_csv('out.csv')"
   ]
  },
  {
   "cell_type": "code",
   "execution_count": 108,
   "id": "b8f9b660",
   "metadata": {},
   "outputs": [
    {
     "data": {
      "text/plain": [
       "<bound method DataFrame.sort_values of              happiness_score  GDP_per_capita   PGR\n",
       "country                                           \n",
       "Switzerland             7.51         57834.0  2.17\n",
       "Iceland                 7.51         46052.6  1.80\n",
       "Denmark                 7.55         46462.0  0.67\n",
       "Norway                  7.54         64414.6  0.84\n",
       "Canada                  7.35         43447.2  2.30\n",
       "...                      ...             ...   ...\n",
       "Afghanistan             3.48          1762.6  1.81\n",
       "Rwanda                  3.43          1834.8  2.51\n",
       "Benin                   3.93          2043.8  1.30\n",
       "Burundi                 3.10           700.8  1.95\n",
       "Togo                    3.55          1497.4  1.33\n",
       "\n",
       "[126 rows x 3 columns]>"
      ]
     },
     "execution_count": 108,
     "metadata": {},
     "output_type": "execute_result"
    }
   ],
   "source": [
    "GDP_happiness_population_df.sort_values"
   ]
  },
  {
   "cell_type": "code",
   "execution_count": 109,
   "id": "b2697271",
   "metadata": {},
   "outputs": [],
   "source": [
    "connection_string = \"postgres:postgres@localhost:5432/countries_db\"\n",
    "engine = create_engine(f'postgresql://{connection_string}')"
   ]
  },
  {
   "cell_type": "code",
   "execution_count": 110,
   "id": "351f99dc",
   "metadata": {},
   "outputs": [
    {
     "name": "stderr",
     "output_type": "stream",
     "text": [
      "C:\\Users\\igrang\\AppData\\Local\\Temp\\ipykernel_21492\\4162273999.py:1: SADeprecationWarning: The Engine.table_names() method is deprecated and will be removed in a future release.  Please refer to Inspector.get_table_names(). (deprecated since: 1.4)\n",
      "  engine.table_names()\n"
     ]
    },
    {
     "data": {
      "text/plain": [
       "['countries']"
      ]
     },
     "execution_count": 110,
     "metadata": {},
     "output_type": "execute_result"
    }
   ],
   "source": [
    "engine.table_names()"
   ]
  },
  {
   "cell_type": "code",
   "execution_count": 111,
   "id": "28475276",
   "metadata": {},
   "outputs": [
    {
     "data": {
      "text/plain": [
       "126"
      ]
     },
     "execution_count": 111,
     "metadata": {},
     "output_type": "execute_result"
    }
   ],
   "source": [
    "GDP_happiness_population_df.to_sql(name='countries', con=engine, if_exists='replace', index=True)"
   ]
  },
  {
   "cell_type": "code",
   "execution_count": null,
   "id": "055b1c2b",
   "metadata": {},
   "outputs": [],
   "source": []
  }
 ],
 "metadata": {
  "kernelspec": {
   "display_name": "Python 3",
   "language": "python",
   "name": "python3"
  },
  "language_info": {
   "codemirror_mode": {
    "name": "ipython",
    "version": 3
   },
   "file_extension": ".py",
   "mimetype": "text/x-python",
   "name": "python",
   "nbconvert_exporter": "python",
   "pygments_lexer": "ipython3",
   "version": "3.8.8"
  }
 },
 "nbformat": 4,
 "nbformat_minor": 5
}
